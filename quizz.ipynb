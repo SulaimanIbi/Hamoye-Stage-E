{
 "cells": [
  {
   "cell_type": "markdown",
   "metadata": {},
   "source": [
    "## With all due respect Hamoye, you need to revisit this quiz. I feel cheated because I followed due procedure and I have an indepth understanding of this module. Yet I scored 45/100. Many of the questions did not have the correct answers in the options."
   ]
  },
  {
   "cell_type": "code",
   "execution_count": 1,
   "metadata": {},
   "outputs": [],
   "source": [
    "import numpy as np\n",
    "import pandas as pd\n",
    "import matplotlib.pyplot as plt\n",
    "import seaborn as sns\n",
    "\n",
    "%matplotlib inline\n",
    "sns.set_style('whitegrid', {'grid.linestyle': '--'})"
   ]
  },
  {
   "cell_type": "code",
   "execution_count": 2,
   "metadata": {},
   "outputs": [
    {
     "data": {
      "text/html": [
       "<div>\n",
       "<style scoped>\n",
       "    .dataframe tbody tr th:only-of-type {\n",
       "        vertical-align: middle;\n",
       "    }\n",
       "\n",
       "    .dataframe tbody tr th {\n",
       "        vertical-align: top;\n",
       "    }\n",
       "\n",
       "    .dataframe thead th {\n",
       "        text-align: right;\n",
       "    }\n",
       "</style>\n",
       "<table border=\"1\" class=\"dataframe\">\n",
       "  <thead>\n",
       "    <tr style=\"text-align: right;\">\n",
       "      <th></th>\n",
       "      <th>Global_active_power</th>\n",
       "      <th>Global_reactive_power</th>\n",
       "      <th>Voltage</th>\n",
       "      <th>Global_intensity</th>\n",
       "      <th>Sub_metering_1</th>\n",
       "      <th>Sub_metering_2</th>\n",
       "      <th>Sub_metering_3</th>\n",
       "      <th>Sub_metering_4</th>\n",
       "    </tr>\n",
       "    <tr>\n",
       "      <th>datetime</th>\n",
       "      <th></th>\n",
       "      <th></th>\n",
       "      <th></th>\n",
       "      <th></th>\n",
       "      <th></th>\n",
       "      <th></th>\n",
       "      <th></th>\n",
       "      <th></th>\n",
       "    </tr>\n",
       "  </thead>\n",
       "  <tbody>\n",
       "    <tr>\n",
       "      <th>2006-12-16 17:24:00</th>\n",
       "      <td>4.216</td>\n",
       "      <td>0.418</td>\n",
       "      <td>234.84</td>\n",
       "      <td>18.4</td>\n",
       "      <td>0.0</td>\n",
       "      <td>1.0</td>\n",
       "      <td>17.0</td>\n",
       "      <td>52.266667</td>\n",
       "    </tr>\n",
       "    <tr>\n",
       "      <th>2006-12-16 17:25:00</th>\n",
       "      <td>5.360</td>\n",
       "      <td>0.436</td>\n",
       "      <td>233.63</td>\n",
       "      <td>23.0</td>\n",
       "      <td>0.0</td>\n",
       "      <td>1.0</td>\n",
       "      <td>16.0</td>\n",
       "      <td>72.333333</td>\n",
       "    </tr>\n",
       "    <tr>\n",
       "      <th>2006-12-16 17:26:00</th>\n",
       "      <td>5.374</td>\n",
       "      <td>0.498</td>\n",
       "      <td>233.29</td>\n",
       "      <td>23.0</td>\n",
       "      <td>0.0</td>\n",
       "      <td>2.0</td>\n",
       "      <td>17.0</td>\n",
       "      <td>70.566667</td>\n",
       "    </tr>\n",
       "    <tr>\n",
       "      <th>2006-12-16 17:27:00</th>\n",
       "      <td>5.388</td>\n",
       "      <td>0.502</td>\n",
       "      <td>233.74</td>\n",
       "      <td>23.0</td>\n",
       "      <td>0.0</td>\n",
       "      <td>1.0</td>\n",
       "      <td>17.0</td>\n",
       "      <td>71.800000</td>\n",
       "    </tr>\n",
       "    <tr>\n",
       "      <th>2006-12-16 17:28:00</th>\n",
       "      <td>3.666</td>\n",
       "      <td>0.528</td>\n",
       "      <td>235.68</td>\n",
       "      <td>15.8</td>\n",
       "      <td>0.0</td>\n",
       "      <td>1.0</td>\n",
       "      <td>17.0</td>\n",
       "      <td>43.100000</td>\n",
       "    </tr>\n",
       "  </tbody>\n",
       "</table>\n",
       "</div>"
      ],
      "text/plain": [
       "                     Global_active_power  Global_reactive_power  Voltage  \\\n",
       "datetime                                                                   \n",
       "2006-12-16 17:24:00                4.216                  0.418   234.84   \n",
       "2006-12-16 17:25:00                5.360                  0.436   233.63   \n",
       "2006-12-16 17:26:00                5.374                  0.498   233.29   \n",
       "2006-12-16 17:27:00                5.388                  0.502   233.74   \n",
       "2006-12-16 17:28:00                3.666                  0.528   235.68   \n",
       "\n",
       "                     Global_intensity  Sub_metering_1  Sub_metering_2  \\\n",
       "datetime                                                                \n",
       "2006-12-16 17:24:00              18.4             0.0             1.0   \n",
       "2006-12-16 17:25:00              23.0             0.0             1.0   \n",
       "2006-12-16 17:26:00              23.0             0.0             2.0   \n",
       "2006-12-16 17:27:00              23.0             0.0             1.0   \n",
       "2006-12-16 17:28:00              15.8             0.0             1.0   \n",
       "\n",
       "                     Sub_metering_3  Sub_metering_4  \n",
       "datetime                                             \n",
       "2006-12-16 17:24:00            17.0       52.266667  \n",
       "2006-12-16 17:25:00            16.0       72.333333  \n",
       "2006-12-16 17:26:00            17.0       70.566667  \n",
       "2006-12-16 17:27:00            17.0       71.800000  \n",
       "2006-12-16 17:28:00            17.0       43.100000  "
      ]
     },
     "execution_count": 2,
     "metadata": {},
     "output_type": "execute_result"
    }
   ],
   "source": [
    "# load all data\n",
    "data = pd.read_csv('household_power_consumption.csv', infer_datetime_format=True,\n",
    "                   parse_dates=['datetime'], index_col=['datetime'])\n",
    "data.head()"
   ]
  },
  {
   "cell_type": "code",
   "execution_count": 3,
   "metadata": {},
   "outputs": [
    {
     "data": {
      "text/plain": [
       "Global_active_power      25979\n",
       "Global_reactive_power    25979\n",
       "Voltage                  25979\n",
       "Global_intensity         25979\n",
       "Sub_metering_1           25979\n",
       "Sub_metering_2           25979\n",
       "Sub_metering_3           25979\n",
       "Sub_metering_4           25979\n",
       "dtype: int64"
      ]
     },
     "execution_count": 3,
     "metadata": {},
     "output_type": "execute_result"
    }
   ],
   "source": [
    "data.isnull().sum()"
   ]
  },
  {
   "cell_type": "markdown",
   "metadata": {},
   "source": [
    "## Fill the null values"
   ]
  },
  {
   "cell_type": "code",
   "execution_count": 4,
   "metadata": {},
   "outputs": [
    {
     "data": {
      "text/plain": [
       "Global_active_power      0\n",
       "Global_reactive_power    0\n",
       "Voltage                  0\n",
       "Global_intensity         0\n",
       "Sub_metering_1           0\n",
       "Sub_metering_2           0\n",
       "Sub_metering_3           0\n",
       "Sub_metering_4           0\n",
       "dtype: int64"
      ]
     },
     "execution_count": 4,
     "metadata": {},
     "output_type": "execute_result"
    }
   ],
   "source": [
    "# Filling missing values with mean\n",
    "\n",
    "data_fillmean = data.fillna(data.mean())\n",
    "data_fillmean.isnull().sum()"
   ]
  },
  {
   "cell_type": "markdown",
   "metadata": {},
   "source": [
    "## Upsampling"
   ]
  },
  {
   "cell_type": "code",
   "execution_count": 5,
   "metadata": {},
   "outputs": [
    {
     "data": {
      "text/plain": [
       "DatetimeIndex(['2006-12-16', '2006-12-17', '2006-12-18', '2006-12-19',\n",
       "               '2006-12-20', '2006-12-21', '2006-12-22', '2006-12-23',\n",
       "               '2006-12-24', '2006-12-25',\n",
       "               ...\n",
       "               '2010-11-17', '2010-11-18', '2010-11-19', '2010-11-20',\n",
       "               '2010-11-21', '2010-11-22', '2010-11-23', '2010-11-24',\n",
       "               '2010-11-25', '2010-11-26'],\n",
       "              dtype='datetime64[ns]', name='datetime', length=1442, freq='D')"
      ]
     },
     "execution_count": 5,
     "metadata": {},
     "output_type": "execute_result"
    }
   ],
   "source": [
    "data_daily = data_fillmean.resample('D').mean()\n",
    "data_daily.index"
   ]
  },
  {
   "cell_type": "code",
   "execution_count": 6,
   "metadata": {},
   "outputs": [
    {
     "data": {
      "text/html": [
       "<div>\n",
       "<style scoped>\n",
       "    .dataframe tbody tr th:only-of-type {\n",
       "        vertical-align: middle;\n",
       "    }\n",
       "\n",
       "    .dataframe tbody tr th {\n",
       "        vertical-align: top;\n",
       "    }\n",
       "\n",
       "    .dataframe thead th {\n",
       "        text-align: right;\n",
       "    }\n",
       "</style>\n",
       "<table border=\"1\" class=\"dataframe\">\n",
       "  <thead>\n",
       "    <tr style=\"text-align: right;\">\n",
       "      <th></th>\n",
       "      <th>Global_active_power</th>\n",
       "      <th>Global_reactive_power</th>\n",
       "      <th>Voltage</th>\n",
       "      <th>Global_intensity</th>\n",
       "      <th>Sub_metering_1</th>\n",
       "      <th>Sub_metering_2</th>\n",
       "      <th>Sub_metering_3</th>\n",
       "      <th>Sub_metering_4</th>\n",
       "    </tr>\n",
       "  </thead>\n",
       "  <tbody>\n",
       "    <tr>\n",
       "      <th>Global_active_power</th>\n",
       "      <td>1.000000</td>\n",
       "      <td>0.247017</td>\n",
       "      <td>-0.399762</td>\n",
       "      <td>0.998889</td>\n",
       "      <td>0.484401</td>\n",
       "      <td>0.434569</td>\n",
       "      <td>0.638555</td>\n",
       "      <td>0.701380</td>\n",
       "    </tr>\n",
       "    <tr>\n",
       "      <th>Global_reactive_power</th>\n",
       "      <td>0.247017</td>\n",
       "      <td>1.000000</td>\n",
       "      <td>-0.112246</td>\n",
       "      <td>0.266120</td>\n",
       "      <td>0.123111</td>\n",
       "      <td>0.139231</td>\n",
       "      <td>0.089617</td>\n",
       "      <td>0.211624</td>\n",
       "    </tr>\n",
       "    <tr>\n",
       "      <th>Voltage</th>\n",
       "      <td>-0.399762</td>\n",
       "      <td>-0.112246</td>\n",
       "      <td>1.000000</td>\n",
       "      <td>-0.411363</td>\n",
       "      <td>-0.195976</td>\n",
       "      <td>-0.167405</td>\n",
       "      <td>-0.268172</td>\n",
       "      <td>-0.271371</td>\n",
       "    </tr>\n",
       "    <tr>\n",
       "      <th>Global_intensity</th>\n",
       "      <td>0.998889</td>\n",
       "      <td>0.266120</td>\n",
       "      <td>-0.411363</td>\n",
       "      <td>1.000000</td>\n",
       "      <td>0.489298</td>\n",
       "      <td>0.440347</td>\n",
       "      <td>0.626543</td>\n",
       "      <td>0.703258</td>\n",
       "    </tr>\n",
       "    <tr>\n",
       "      <th>Sub_metering_1</th>\n",
       "      <td>0.484401</td>\n",
       "      <td>0.123111</td>\n",
       "      <td>-0.195976</td>\n",
       "      <td>0.489298</td>\n",
       "      <td>1.000000</td>\n",
       "      <td>0.054721</td>\n",
       "      <td>0.102571</td>\n",
       "      <td>0.125067</td>\n",
       "    </tr>\n",
       "    <tr>\n",
       "      <th>Sub_metering_2</th>\n",
       "      <td>0.434569</td>\n",
       "      <td>0.139231</td>\n",
       "      <td>-0.167405</td>\n",
       "      <td>0.440347</td>\n",
       "      <td>0.054721</td>\n",
       "      <td>1.000000</td>\n",
       "      <td>0.080872</td>\n",
       "      <td>0.085201</td>\n",
       "    </tr>\n",
       "    <tr>\n",
       "      <th>Sub_metering_3</th>\n",
       "      <td>0.638555</td>\n",
       "      <td>0.089617</td>\n",
       "      <td>-0.268172</td>\n",
       "      <td>0.626543</td>\n",
       "      <td>0.102571</td>\n",
       "      <td>0.080872</td>\n",
       "      <td>1.000000</td>\n",
       "      <td>0.178724</td>\n",
       "    </tr>\n",
       "    <tr>\n",
       "      <th>Sub_metering_4</th>\n",
       "      <td>0.701380</td>\n",
       "      <td>0.211624</td>\n",
       "      <td>-0.271371</td>\n",
       "      <td>0.703258</td>\n",
       "      <td>0.125067</td>\n",
       "      <td>0.085201</td>\n",
       "      <td>0.178724</td>\n",
       "      <td>1.000000</td>\n",
       "    </tr>\n",
       "  </tbody>\n",
       "</table>\n",
       "</div>"
      ],
      "text/plain": [
       "                       Global_active_power  Global_reactive_power   Voltage  \\\n",
       "Global_active_power               1.000000               0.247017 -0.399762   \n",
       "Global_reactive_power             0.247017               1.000000 -0.112246   \n",
       "Voltage                          -0.399762              -0.112246  1.000000   \n",
       "Global_intensity                  0.998889               0.266120 -0.411363   \n",
       "Sub_metering_1                    0.484401               0.123111 -0.195976   \n",
       "Sub_metering_2                    0.434569               0.139231 -0.167405   \n",
       "Sub_metering_3                    0.638555               0.089617 -0.268172   \n",
       "Sub_metering_4                    0.701380               0.211624 -0.271371   \n",
       "\n",
       "                       Global_intensity  Sub_metering_1  Sub_metering_2  \\\n",
       "Global_active_power            0.998889        0.484401        0.434569   \n",
       "Global_reactive_power          0.266120        0.123111        0.139231   \n",
       "Voltage                       -0.411363       -0.195976       -0.167405   \n",
       "Global_intensity               1.000000        0.489298        0.440347   \n",
       "Sub_metering_1                 0.489298        1.000000        0.054721   \n",
       "Sub_metering_2                 0.440347        0.054721        1.000000   \n",
       "Sub_metering_3                 0.626543        0.102571        0.080872   \n",
       "Sub_metering_4                 0.703258        0.125067        0.085201   \n",
       "\n",
       "                       Sub_metering_3  Sub_metering_4  \n",
       "Global_active_power          0.638555        0.701380  \n",
       "Global_reactive_power        0.089617        0.211624  \n",
       "Voltage                     -0.268172       -0.271371  \n",
       "Global_intensity             0.626543        0.703258  \n",
       "Sub_metering_1               0.102571        0.125067  \n",
       "Sub_metering_2               0.080872        0.085201  \n",
       "Sub_metering_3               1.000000        0.178724  \n",
       "Sub_metering_4               0.178724        1.000000  "
      ]
     },
     "execution_count": 6,
     "metadata": {},
     "output_type": "execute_result"
    }
   ],
   "source": [
    "data_fillmean.corr()"
   ]
  },
  {
   "cell_type": "markdown",
   "metadata": {},
   "source": [
    "## Daily Predictions"
   ]
  },
  {
   "cell_type": "code",
   "execution_count": 7,
   "metadata": {},
   "outputs": [
    {
     "data": {
      "text/html": [
       "<div>\n",
       "<style scoped>\n",
       "    .dataframe tbody tr th:only-of-type {\n",
       "        vertical-align: middle;\n",
       "    }\n",
       "\n",
       "    .dataframe tbody tr th {\n",
       "        vertical-align: top;\n",
       "    }\n",
       "\n",
       "    .dataframe thead th {\n",
       "        text-align: right;\n",
       "    }\n",
       "</style>\n",
       "<table border=\"1\" class=\"dataframe\">\n",
       "  <thead>\n",
       "    <tr style=\"text-align: right;\">\n",
       "      <th></th>\n",
       "      <th>Global_active_power</th>\n",
       "      <th>Global_reactive_power</th>\n",
       "      <th>Voltage</th>\n",
       "      <th>Global_intensity</th>\n",
       "      <th>Sub_metering_1</th>\n",
       "      <th>Sub_metering_2</th>\n",
       "      <th>Sub_metering_3</th>\n",
       "      <th>Sub_metering_4</th>\n",
       "    </tr>\n",
       "    <tr>\n",
       "      <th>datetime</th>\n",
       "      <th></th>\n",
       "      <th></th>\n",
       "      <th></th>\n",
       "      <th></th>\n",
       "      <th></th>\n",
       "      <th></th>\n",
       "      <th></th>\n",
       "      <th></th>\n",
       "    </tr>\n",
       "  </thead>\n",
       "  <tbody>\n",
       "    <tr>\n",
       "      <th>2006-12-16</th>\n",
       "      <td>3.053475</td>\n",
       "      <td>0.088187</td>\n",
       "      <td>236.243763</td>\n",
       "      <td>13.082828</td>\n",
       "      <td>0.000000</td>\n",
       "      <td>1.378788</td>\n",
       "      <td>12.439394</td>\n",
       "      <td>37.073064</td>\n",
       "    </tr>\n",
       "    <tr>\n",
       "      <th>2006-12-17</th>\n",
       "      <td>2.354486</td>\n",
       "      <td>0.156949</td>\n",
       "      <td>240.087028</td>\n",
       "      <td>9.999028</td>\n",
       "      <td>1.411806</td>\n",
       "      <td>2.907639</td>\n",
       "      <td>9.264583</td>\n",
       "      <td>25.657407</td>\n",
       "    </tr>\n",
       "    <tr>\n",
       "      <th>2006-12-18</th>\n",
       "      <td>1.530435</td>\n",
       "      <td>0.112356</td>\n",
       "      <td>241.231694</td>\n",
       "      <td>6.421667</td>\n",
       "      <td>0.738194</td>\n",
       "      <td>1.820139</td>\n",
       "      <td>9.734722</td>\n",
       "      <td>13.214190</td>\n",
       "    </tr>\n",
       "    <tr>\n",
       "      <th>2006-12-19</th>\n",
       "      <td>1.157079</td>\n",
       "      <td>0.104821</td>\n",
       "      <td>241.999313</td>\n",
       "      <td>4.926389</td>\n",
       "      <td>0.582639</td>\n",
       "      <td>5.279167</td>\n",
       "      <td>4.303472</td>\n",
       "      <td>9.119375</td>\n",
       "    </tr>\n",
       "    <tr>\n",
       "      <th>2006-12-20</th>\n",
       "      <td>1.545658</td>\n",
       "      <td>0.111804</td>\n",
       "      <td>242.308063</td>\n",
       "      <td>6.467361</td>\n",
       "      <td>0.000000</td>\n",
       "      <td>1.838889</td>\n",
       "      <td>9.765972</td>\n",
       "      <td>14.156111</td>\n",
       "    </tr>\n",
       "    <tr>\n",
       "      <th>...</th>\n",
       "      <td>...</td>\n",
       "      <td>...</td>\n",
       "      <td>...</td>\n",
       "      <td>...</td>\n",
       "      <td>...</td>\n",
       "      <td>...</td>\n",
       "      <td>...</td>\n",
       "      <td>...</td>\n",
       "    </tr>\n",
       "    <tr>\n",
       "      <th>2010-11-22</th>\n",
       "      <td>1.417733</td>\n",
       "      <td>0.098857</td>\n",
       "      <td>240.197118</td>\n",
       "      <td>6.014167</td>\n",
       "      <td>3.371528</td>\n",
       "      <td>1.465278</td>\n",
       "      <td>7.038889</td>\n",
       "      <td>11.753194</td>\n",
       "    </tr>\n",
       "    <tr>\n",
       "      <th>2010-11-23</th>\n",
       "      <td>1.095511</td>\n",
       "      <td>0.095451</td>\n",
       "      <td>240.575528</td>\n",
       "      <td>4.674444</td>\n",
       "      <td>1.299306</td>\n",
       "      <td>0.318056</td>\n",
       "      <td>5.285417</td>\n",
       "      <td>11.355741</td>\n",
       "    </tr>\n",
       "    <tr>\n",
       "      <th>2010-11-24</th>\n",
       "      <td>1.247394</td>\n",
       "      <td>0.091986</td>\n",
       "      <td>240.030965</td>\n",
       "      <td>5.249583</td>\n",
       "      <td>0.761111</td>\n",
       "      <td>1.977778</td>\n",
       "      <td>8.488889</td>\n",
       "      <td>9.562130</td>\n",
       "    </tr>\n",
       "    <tr>\n",
       "      <th>2010-11-25</th>\n",
       "      <td>0.993864</td>\n",
       "      <td>0.080644</td>\n",
       "      <td>241.536257</td>\n",
       "      <td>4.169444</td>\n",
       "      <td>0.747222</td>\n",
       "      <td>0.295833</td>\n",
       "      <td>3.522222</td>\n",
       "      <td>11.999120</td>\n",
       "    </tr>\n",
       "    <tr>\n",
       "      <th>2010-11-26</th>\n",
       "      <td>1.178230</td>\n",
       "      <td>0.095666</td>\n",
       "      <td>240.291029</td>\n",
       "      <td>4.956295</td>\n",
       "      <td>0.855107</td>\n",
       "      <td>0.304830</td>\n",
       "      <td>7.908947</td>\n",
       "      <td>10.568277</td>\n",
       "    </tr>\n",
       "  </tbody>\n",
       "</table>\n",
       "<p>1442 rows × 8 columns</p>\n",
       "</div>"
      ],
      "text/plain": [
       "            Global_active_power  Global_reactive_power     Voltage  \\\n",
       "datetime                                                             \n",
       "2006-12-16             3.053475               0.088187  236.243763   \n",
       "2006-12-17             2.354486               0.156949  240.087028   \n",
       "2006-12-18             1.530435               0.112356  241.231694   \n",
       "2006-12-19             1.157079               0.104821  241.999313   \n",
       "2006-12-20             1.545658               0.111804  242.308063   \n",
       "...                         ...                    ...         ...   \n",
       "2010-11-22             1.417733               0.098857  240.197118   \n",
       "2010-11-23             1.095511               0.095451  240.575528   \n",
       "2010-11-24             1.247394               0.091986  240.030965   \n",
       "2010-11-25             0.993864               0.080644  241.536257   \n",
       "2010-11-26             1.178230               0.095666  240.291029   \n",
       "\n",
       "            Global_intensity  Sub_metering_1  Sub_metering_2  Sub_metering_3  \\\n",
       "datetime                                                                       \n",
       "2006-12-16         13.082828        0.000000        1.378788       12.439394   \n",
       "2006-12-17          9.999028        1.411806        2.907639        9.264583   \n",
       "2006-12-18          6.421667        0.738194        1.820139        9.734722   \n",
       "2006-12-19          4.926389        0.582639        5.279167        4.303472   \n",
       "2006-12-20          6.467361        0.000000        1.838889        9.765972   \n",
       "...                      ...             ...             ...             ...   \n",
       "2010-11-22          6.014167        3.371528        1.465278        7.038889   \n",
       "2010-11-23          4.674444        1.299306        0.318056        5.285417   \n",
       "2010-11-24          5.249583        0.761111        1.977778        8.488889   \n",
       "2010-11-25          4.169444        0.747222        0.295833        3.522222   \n",
       "2010-11-26          4.956295        0.855107        0.304830        7.908947   \n",
       "\n",
       "            Sub_metering_4  \n",
       "datetime                    \n",
       "2006-12-16       37.073064  \n",
       "2006-12-17       25.657407  \n",
       "2006-12-18       13.214190  \n",
       "2006-12-19        9.119375  \n",
       "2006-12-20       14.156111  \n",
       "...                    ...  \n",
       "2010-11-22       11.753194  \n",
       "2010-11-23       11.355741  \n",
       "2010-11-24        9.562130  \n",
       "2010-11-25       11.999120  \n",
       "2010-11-26       10.568277  \n",
       "\n",
       "[1442 rows x 8 columns]"
      ]
     },
     "execution_count": 7,
     "metadata": {},
     "output_type": "execute_result"
    }
   ],
   "source": [
    "data_daily"
   ]
  },
  {
   "cell_type": "code",
   "execution_count": 8,
   "metadata": {},
   "outputs": [
    {
     "data": {
      "text/html": [
       "<div>\n",
       "<style scoped>\n",
       "    .dataframe tbody tr th:only-of-type {\n",
       "        vertical-align: middle;\n",
       "    }\n",
       "\n",
       "    .dataframe tbody tr th {\n",
       "        vertical-align: top;\n",
       "    }\n",
       "\n",
       "    .dataframe thead th {\n",
       "        text-align: right;\n",
       "    }\n",
       "</style>\n",
       "<table border=\"1\" class=\"dataframe\">\n",
       "  <thead>\n",
       "    <tr style=\"text-align: right;\">\n",
       "      <th></th>\n",
       "      <th>datetime</th>\n",
       "      <th>Global_active_power</th>\n",
       "      <th>Global_reactive_power</th>\n",
       "      <th>Voltage</th>\n",
       "      <th>Global_intensity</th>\n",
       "      <th>Sub_metering_1</th>\n",
       "      <th>Sub_metering_2</th>\n",
       "      <th>Sub_metering_3</th>\n",
       "      <th>Sub_metering_4</th>\n",
       "    </tr>\n",
       "  </thead>\n",
       "  <tbody>\n",
       "    <tr>\n",
       "      <th>0</th>\n",
       "      <td>2006-12-16</td>\n",
       "      <td>3.053475</td>\n",
       "      <td>0.088187</td>\n",
       "      <td>236.243763</td>\n",
       "      <td>13.082828</td>\n",
       "      <td>0.000000</td>\n",
       "      <td>1.378788</td>\n",
       "      <td>12.439394</td>\n",
       "      <td>37.073064</td>\n",
       "    </tr>\n",
       "    <tr>\n",
       "      <th>1</th>\n",
       "      <td>2006-12-17</td>\n",
       "      <td>2.354486</td>\n",
       "      <td>0.156949</td>\n",
       "      <td>240.087028</td>\n",
       "      <td>9.999028</td>\n",
       "      <td>1.411806</td>\n",
       "      <td>2.907639</td>\n",
       "      <td>9.264583</td>\n",
       "      <td>25.657407</td>\n",
       "    </tr>\n",
       "    <tr>\n",
       "      <th>2</th>\n",
       "      <td>2006-12-18</td>\n",
       "      <td>1.530435</td>\n",
       "      <td>0.112356</td>\n",
       "      <td>241.231694</td>\n",
       "      <td>6.421667</td>\n",
       "      <td>0.738194</td>\n",
       "      <td>1.820139</td>\n",
       "      <td>9.734722</td>\n",
       "      <td>13.214190</td>\n",
       "    </tr>\n",
       "    <tr>\n",
       "      <th>3</th>\n",
       "      <td>2006-12-19</td>\n",
       "      <td>1.157079</td>\n",
       "      <td>0.104821</td>\n",
       "      <td>241.999313</td>\n",
       "      <td>4.926389</td>\n",
       "      <td>0.582639</td>\n",
       "      <td>5.279167</td>\n",
       "      <td>4.303472</td>\n",
       "      <td>9.119375</td>\n",
       "    </tr>\n",
       "    <tr>\n",
       "      <th>4</th>\n",
       "      <td>2006-12-20</td>\n",
       "      <td>1.545658</td>\n",
       "      <td>0.111804</td>\n",
       "      <td>242.308063</td>\n",
       "      <td>6.467361</td>\n",
       "      <td>0.000000</td>\n",
       "      <td>1.838889</td>\n",
       "      <td>9.765972</td>\n",
       "      <td>14.156111</td>\n",
       "    </tr>\n",
       "  </tbody>\n",
       "</table>\n",
       "</div>"
      ],
      "text/plain": [
       "    datetime  Global_active_power  Global_reactive_power     Voltage  \\\n",
       "0 2006-12-16             3.053475               0.088187  236.243763   \n",
       "1 2006-12-17             2.354486               0.156949  240.087028   \n",
       "2 2006-12-18             1.530435               0.112356  241.231694   \n",
       "3 2006-12-19             1.157079               0.104821  241.999313   \n",
       "4 2006-12-20             1.545658               0.111804  242.308063   \n",
       "\n",
       "   Global_intensity  Sub_metering_1  Sub_metering_2  Sub_metering_3  \\\n",
       "0         13.082828        0.000000        1.378788       12.439394   \n",
       "1          9.999028        1.411806        2.907639        9.264583   \n",
       "2          6.421667        0.738194        1.820139        9.734722   \n",
       "3          4.926389        0.582639        5.279167        4.303472   \n",
       "4          6.467361        0.000000        1.838889        9.765972   \n",
       "\n",
       "   Sub_metering_4  \n",
       "0       37.073064  \n",
       "1       25.657407  \n",
       "2       13.214190  \n",
       "3        9.119375  \n",
       "4       14.156111  "
      ]
     },
     "execution_count": 8,
     "metadata": {},
     "output_type": "execute_result"
    }
   ],
   "source": [
    "# reset index\n",
    "data_daily = data_daily.reset_index()\n",
    "data_daily.head()"
   ]
  },
  {
   "cell_type": "markdown",
   "metadata": {},
   "source": [
    "## Multi-Variate"
   ]
  },
  {
   "cell_type": "code",
   "execution_count": 9,
   "metadata": {},
   "outputs": [
    {
     "data": {
      "text/html": [
       "<div>\n",
       "<style scoped>\n",
       "    .dataframe tbody tr th:only-of-type {\n",
       "        vertical-align: middle;\n",
       "    }\n",
       "\n",
       "    .dataframe tbody tr th {\n",
       "        vertical-align: top;\n",
       "    }\n",
       "\n",
       "    .dataframe thead th {\n",
       "        text-align: right;\n",
       "    }\n",
       "</style>\n",
       "<table border=\"1\" class=\"dataframe\">\n",
       "  <thead>\n",
       "    <tr style=\"text-align: right;\">\n",
       "      <th></th>\n",
       "      <th>ds</th>\n",
       "      <th>y</th>\n",
       "      <th>A</th>\n",
       "      <th>B</th>\n",
       "      <th>C</th>\n",
       "      <th>D</th>\n",
       "      <th>E</th>\n",
       "      <th>F</th>\n",
       "      <th>Sub_metering_4</th>\n",
       "    </tr>\n",
       "  </thead>\n",
       "  <tbody>\n",
       "    <tr>\n",
       "      <th>0</th>\n",
       "      <td>2006-12-16</td>\n",
       "      <td>3.053475</td>\n",
       "      <td>0.088187</td>\n",
       "      <td>236.243763</td>\n",
       "      <td>13.082828</td>\n",
       "      <td>0.000000</td>\n",
       "      <td>1.378788</td>\n",
       "      <td>12.439394</td>\n",
       "      <td>37.073064</td>\n",
       "    </tr>\n",
       "    <tr>\n",
       "      <th>1</th>\n",
       "      <td>2006-12-17</td>\n",
       "      <td>2.354486</td>\n",
       "      <td>0.156949</td>\n",
       "      <td>240.087028</td>\n",
       "      <td>9.999028</td>\n",
       "      <td>1.411806</td>\n",
       "      <td>2.907639</td>\n",
       "      <td>9.264583</td>\n",
       "      <td>25.657407</td>\n",
       "    </tr>\n",
       "  </tbody>\n",
       "</table>\n",
       "</div>"
      ],
      "text/plain": [
       "          ds         y         A           B          C         D         E  \\\n",
       "0 2006-12-16  3.053475  0.088187  236.243763  13.082828  0.000000  1.378788   \n",
       "1 2006-12-17  2.354486  0.156949  240.087028   9.999028  1.411806  2.907639   \n",
       "\n",
       "           F  Sub_metering_4  \n",
       "0  12.439394       37.073064  \n",
       "1   9.264583       25.657407  "
      ]
     },
     "execution_count": 9,
     "metadata": {},
     "output_type": "execute_result"
    }
   ],
   "source": [
    "mapping_1 = {'datetime':'ds', 'Global_active_power':'y',\n",
    "           'Global_reactive_power':'A','Voltage':'B',\n",
    "           'Global_intensity':'C','Sub_metering_1':'D',\n",
    "           'Sub_metering_2':'E','Sub_metering_3':'F'}\n",
    "\n",
    "\n",
    "dd = data_daily.rename(mapping_1, axis=1)\n",
    "dd.head(2)"
   ]
  },
  {
   "cell_type": "code",
   "execution_count": 10,
   "metadata": {},
   "outputs": [],
   "source": [
    "from fbprophet import Prophet"
   ]
  },
  {
   "cell_type": "code",
   "execution_count": 11,
   "metadata": {},
   "outputs": [
    {
     "data": {
      "text/plain": [
       "<fbprophet.forecaster.Prophet at 0x27e882c6828>"
      ]
     },
     "execution_count": 11,
     "metadata": {},
     "output_type": "execute_result"
    }
   ],
   "source": [
    "model = Prophet()\n",
    "\n",
    "model.add_regressor('A')\n",
    "model.add_regressor('B')\n",
    "model.add_regressor('C')\n",
    "model.add_regressor('D')\n",
    "model.add_regressor('E')\n",
    "model.add_regressor('F')\n"
   ]
  },
  {
   "cell_type": "code",
   "execution_count": 12,
   "metadata": {},
   "outputs": [
    {
     "data": {
      "text/plain": [
       "((1077, 9), (365, 9))"
      ]
     },
     "execution_count": 12,
     "metadata": {},
     "output_type": "execute_result"
    }
   ],
   "source": [
    "train = dd.iloc[:1442-365,:]\n",
    "test = dd.iloc[1442-365:,:]\n",
    "\n",
    "train.shape, test.shape"
   ]
  },
  {
   "cell_type": "code",
   "execution_count": 13,
   "metadata": {},
   "outputs": [
    {
     "name": "stderr",
     "output_type": "stream",
     "text": [
      "INFO:fbprophet:Disabling daily seasonality. Run prophet with daily_seasonality=True to override this.\n",
      "C:\\Users\\Sulaimam\\Anaconda3\\lib\\site-packages\\pystan\\misc.py:399: FutureWarning: Conversion of the second argument of issubdtype from `float` to `np.floating` is deprecated. In future, it will be treated as `np.float64 == np.dtype(float).type`.\n",
      "  elif np.issubdtype(np.asarray(v).dtype, float):\n"
     ]
    },
    {
     "data": {
      "text/plain": [
       "<fbprophet.forecaster.Prophet at 0x27e882c6828>"
      ]
     },
     "execution_count": 13,
     "metadata": {},
     "output_type": "execute_result"
    }
   ],
   "source": [
    "model.fit(train)"
   ]
  },
  {
   "cell_type": "code",
   "execution_count": 14,
   "metadata": {},
   "outputs": [],
   "source": [
    "pred = model.predict(test)"
   ]
  },
  {
   "cell_type": "code",
   "execution_count": 15,
   "metadata": {},
   "outputs": [
    {
     "data": {
      "text/plain": [
       "(365, 40)"
      ]
     },
     "execution_count": 15,
     "metadata": {},
     "output_type": "execute_result"
    }
   ],
   "source": [
    "pred.shape"
   ]
  },
  {
   "cell_type": "code",
   "execution_count": 16,
   "metadata": {},
   "outputs": [],
   "source": [
    "from sklearn.metrics import mean_squared_error"
   ]
  },
  {
   "cell_type": "code",
   "execution_count": 17,
   "metadata": {},
   "outputs": [],
   "source": [
    "def mape(test, pred):\n",
    "    #calculating mape\n",
    "    test_array = np.array(test['y'])\n",
    "    pred_array = np.array(pred['yhat'])\n",
    "    \n",
    "    mape = np.mean(np.abs((test_array - pred_array) / test_array)) * 100\n",
    "    return round(mape,4)\n",
    "\n",
    "def rmse(test, pred):\n",
    "    #calculate mrse\n",
    "    test_array = np.array(test['y'])\n",
    "    pred_array = np.array(pred['yhat'])\n",
    "    \n",
    "    mse = mean_squared_error(test_array, pred_array)\n",
    "    rmse = np.sqrt(mse)\n",
    "    return rmse"
   ]
  },
  {
   "cell_type": "code",
   "execution_count": 18,
   "metadata": {},
   "outputs": [
    {
     "data": {
      "text/plain": [
       "3.0541"
      ]
     },
     "execution_count": 18,
     "metadata": {},
     "output_type": "execute_result"
    }
   ],
   "source": [
    "mape(test, pred)"
   ]
  },
  {
   "cell_type": "code",
   "execution_count": 19,
   "metadata": {},
   "outputs": [
    {
     "data": {
      "text/plain": [
       "0.030479123500969228"
      ]
     },
     "execution_count": 19,
     "metadata": {},
     "output_type": "execute_result"
    }
   ],
   "source": [
    "rmse(test, pred)"
   ]
  },
  {
   "cell_type": "code",
   "execution_count": 20,
   "metadata": {},
   "outputs": [
    {
     "name": "stderr",
     "output_type": "stream",
     "text": [
      "C:\\Users\\Sulaimam\\Anaconda3\\lib\\site-packages\\matplotlib\\cbook\\__init__.py:1402: FutureWarning: Support for multi-dimensional indexing (e.g. `obj[:, None]`) is deprecated and will be removed in a future version.  Convert to a numpy array before indexing instead.\n",
      "  x[:, None]\n",
      "C:\\Users\\Sulaimam\\Anaconda3\\lib\\site-packages\\matplotlib\\axes\\_base.py:278: FutureWarning: Support for multi-dimensional indexing (e.g. `obj[:, None]`) is deprecated and will be removed in a future version.  Convert to a numpy array before indexing instead.\n",
      "  y = y[:, np.newaxis]\n"
     ]
    },
    {
     "data": {
      "image/png": "[encoded data removed]",
      "text/plain": [
       "<Figure size 720x432 with 1 Axes>"
      ]
     },
     "metadata": {},
     "output_type": "display_data"
    }
   ],
   "source": [
    "model.plot(pred)\n",
    "plt.show()"
   ]
  },
  {
   "cell_type": "code",
   "execution_count": 63,
   "metadata": {},
   "outputs": [
    {
     "data": {
      "text/plain": [
       "[<matplotlib.lines.Line2D at 0x28b2d388048>]"
      ]
     },
     "execution_count": 63,
     "metadata": {},
     "output_type": "execute_result"
    },
    {
     "data": {
      "image/png": "[encoded data removed]",
      "text/plain": [
       "<Figure size 1080x576 with 1 Axes>"
      ]
     },
     "metadata": {
      "needs_background": "light"
     },
     "output_type": "display_data"
    }
   ],
   "source": [
    "plt.plot(dd['Global_active_power'])"
   ]
  },
  {
   "cell_type": "markdown",
   "metadata": {},
   "source": [
    "## UniVariate"
   ]
  },
  {
   "cell_type": "code",
   "execution_count": 21,
   "metadata": {},
   "outputs": [
    {
     "data": {
      "text/html": [
       "<div>\n",
       "<style scoped>\n",
       "    .dataframe tbody tr th:only-of-type {\n",
       "        vertical-align: middle;\n",
       "    }\n",
       "\n",
       "    .dataframe tbody tr th {\n",
       "        vertical-align: top;\n",
       "    }\n",
       "\n",
       "    .dataframe thead th {\n",
       "        text-align: right;\n",
       "    }\n",
       "</style>\n",
       "<table border=\"1\" class=\"dataframe\">\n",
       "  <thead>\n",
       "    <tr style=\"text-align: right;\">\n",
       "      <th></th>\n",
       "      <th>ds</th>\n",
       "      <th>y</th>\n",
       "    </tr>\n",
       "  </thead>\n",
       "  <tbody>\n",
       "    <tr>\n",
       "      <th>0</th>\n",
       "      <td>2006-12-16</td>\n",
       "      <td>3.053475</td>\n",
       "    </tr>\n",
       "    <tr>\n",
       "      <th>1</th>\n",
       "      <td>2006-12-17</td>\n",
       "      <td>2.354486</td>\n",
       "    </tr>\n",
       "  </tbody>\n",
       "</table>\n",
       "</div>"
      ],
      "text/plain": [
       "          ds         y\n",
       "0 2006-12-16  3.053475\n",
       "1 2006-12-17  2.354486"
      ]
     },
     "execution_count": 21,
     "metadata": {},
     "output_type": "execute_result"
    }
   ],
   "source": [
    "ww = data_daily[['datetime','Global_active_power']]\n",
    "\n",
    "\n",
    "mapping_2 = {'datetime':'ds', 'Global_active_power':'y'}\n",
    "ww = ww.rename(mapping_2, axis=1)\n",
    "ww.head(2)"
   ]
  },
  {
   "cell_type": "code",
   "execution_count": 22,
   "metadata": {},
   "outputs": [],
   "source": [
    "model = Prophet()"
   ]
  },
  {
   "cell_type": "code",
   "execution_count": 24,
   "metadata": {},
   "outputs": [
    {
     "data": {
      "text/plain": [
       "((1077, 2), (365, 2))"
      ]
     },
     "execution_count": 24,
     "metadata": {},
     "output_type": "execute_result"
    }
   ],
   "source": [
    "train = ww.iloc[:1442-365,:]\n",
    "test = ww.iloc[1442-365:,:]\n",
    "\n",
    "train.shape, test.shape"
   ]
  },
  {
   "cell_type": "code",
   "execution_count": 25,
   "metadata": {},
   "outputs": [
    {
     "name": "stderr",
     "output_type": "stream",
     "text": [
      "INFO:fbprophet:Disabling daily seasonality. Run prophet with daily_seasonality=True to override this.\n",
      "C:\\Users\\Sulaimam\\Anaconda3\\lib\\site-packages\\pystan\\misc.py:399: FutureWarning: Conversion of the second argument of issubdtype from `float` to `np.floating` is deprecated. In future, it will be treated as `np.float64 == np.dtype(float).type`.\n",
      "  elif np.issubdtype(np.asarray(v).dtype, float):\n"
     ]
    },
    {
     "data": {
      "text/plain": [
       "<fbprophet.forecaster.Prophet at 0x27e88544828>"
      ]
     },
     "execution_count": 25,
     "metadata": {},
     "output_type": "execute_result"
    }
   ],
   "source": [
    "model.fit(train)"
   ]
  },
  {
   "cell_type": "code",
   "execution_count": 26,
   "metadata": {},
   "outputs": [
    {
     "data": {
      "text/plain": [
       "(365, 19)"
      ]
     },
     "execution_count": 26,
     "metadata": {},
     "output_type": "execute_result"
    }
   ],
   "source": [
    "pred = model.predict(test)\n",
    "pred.shape"
   ]
  },
  {
   "cell_type": "code",
   "execution_count": 27,
   "metadata": {},
   "outputs": [
    {
     "data": {
      "text/plain": [
       "20.812"
      ]
     },
     "execution_count": 27,
     "metadata": {},
     "output_type": "execute_result"
    }
   ],
   "source": [
    "mape(test, pred)"
   ]
  },
  {
   "cell_type": "code",
   "execution_count": 28,
   "metadata": {},
   "outputs": [
    {
     "data": {
      "text/plain": [
       "0.2602322882384467"
      ]
     },
     "execution_count": 28,
     "metadata": {},
     "output_type": "execute_result"
    }
   ],
   "source": [
    "rmse(test, pred)"
   ]
  },
  {
   "cell_type": "code",
   "execution_count": null,
   "metadata": {},
   "outputs": [],
   "source": []
  }
 ],
 "metadata": {
  "kernelspec": {
   "display_name": "Python 3",
   "language": "python",
   "name": "python3"
  },
  "language_info": {
   "codemirror_mode": {
    "name": "ipython",
    "version": 3
   },
   "file_extension": ".py",
   "mimetype": "text/x-python",
   "name": "python",
   "nbconvert_exporter": "python",
   "pygments_lexer": "ipython3",
   "version": "3.7.3"
  }
 },
 "nbformat": 4,
 "nbformat_minor": 2
}
